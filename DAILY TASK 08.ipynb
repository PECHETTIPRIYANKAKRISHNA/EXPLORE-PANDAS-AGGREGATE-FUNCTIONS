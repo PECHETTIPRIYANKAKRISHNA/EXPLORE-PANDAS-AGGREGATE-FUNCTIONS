{
 "cells": [
  {
   "cell_type": "markdown",
   "id": "cb5fbda9",
   "metadata": {},
   "source": [
    "### EXPLORE PANDAS AGGREGATE FUNCTIONS"
   ]
  },
  {
   "cell_type": "markdown",
   "id": "77660517",
   "metadata": {},
   "source": [
    "Here are the 13 aggregating functions available in Pandas and quick summary of what it does.\n",
    "\n",
    "- mean(): Compute mean of groups\n",
    "- sum(): Compute sum of group values\n",
    "- size(): Compute group sizes\n",
    "- count(): Compute count of group\n",
    "- std(): Standard deviation of groups\n",
    "- var(): Compute variance of groups\n",
    "- sem(): Standard error of the mean of groups\n",
    "- describe(): Generates descriptive statistics\n",
    "- first(): Compute first of group values\n",
    "- last(): Compute last of group values\n",
    "- nth() : Take nth value, or a subset if n is a list\n",
    "- min(): Compute min of group values\n",
    "- max(): Compute max of group values"
   ]
  },
  {
   "cell_type": "code",
   "execution_count": 1,
   "id": "e5143a0d",
   "metadata": {},
   "outputs": [],
   "source": [
    "# IMPORT LIBRARIES\n",
    "import pandas as pd"
   ]
  },
  {
   "cell_type": "code",
   "execution_count": 2,
   "id": "d6f68657",
   "metadata": {},
   "outputs": [
    {
     "data": {
      "text/html": [
       "<div>\n",
       "<style scoped>\n",
       "    .dataframe tbody tr th:only-of-type {\n",
       "        vertical-align: middle;\n",
       "    }\n",
       "\n",
       "    .dataframe tbody tr th {\n",
       "        vertical-align: top;\n",
       "    }\n",
       "\n",
       "    .dataframe thead th {\n",
       "        text-align: right;\n",
       "    }\n",
       "</style>\n",
       "<table border=\"1\" class=\"dataframe\">\n",
       "  <thead>\n",
       "    <tr style=\"text-align: right;\">\n",
       "      <th></th>\n",
       "      <th>age</th>\n",
       "      <th>sex</th>\n",
       "      <th>bmi</th>\n",
       "      <th>children</th>\n",
       "      <th>smoker</th>\n",
       "      <th>region</th>\n",
       "      <th>charges</th>\n",
       "    </tr>\n",
       "  </thead>\n",
       "  <tbody>\n",
       "    <tr>\n",
       "      <th>0</th>\n",
       "      <td>19</td>\n",
       "      <td>female</td>\n",
       "      <td>27.900</td>\n",
       "      <td>0</td>\n",
       "      <td>yes</td>\n",
       "      <td>southwest</td>\n",
       "      <td>16884.92400</td>\n",
       "    </tr>\n",
       "    <tr>\n",
       "      <th>1</th>\n",
       "      <td>18</td>\n",
       "      <td>male</td>\n",
       "      <td>33.770</td>\n",
       "      <td>1</td>\n",
       "      <td>no</td>\n",
       "      <td>southeast</td>\n",
       "      <td>1725.55230</td>\n",
       "    </tr>\n",
       "    <tr>\n",
       "      <th>2</th>\n",
       "      <td>28</td>\n",
       "      <td>male</td>\n",
       "      <td>33.000</td>\n",
       "      <td>3</td>\n",
       "      <td>no</td>\n",
       "      <td>southeast</td>\n",
       "      <td>4449.46200</td>\n",
       "    </tr>\n",
       "    <tr>\n",
       "      <th>3</th>\n",
       "      <td>33</td>\n",
       "      <td>male</td>\n",
       "      <td>22.705</td>\n",
       "      <td>0</td>\n",
       "      <td>no</td>\n",
       "      <td>northwest</td>\n",
       "      <td>21984.47061</td>\n",
       "    </tr>\n",
       "    <tr>\n",
       "      <th>4</th>\n",
       "      <td>32</td>\n",
       "      <td>male</td>\n",
       "      <td>28.880</td>\n",
       "      <td>0</td>\n",
       "      <td>no</td>\n",
       "      <td>northwest</td>\n",
       "      <td>3866.85520</td>\n",
       "    </tr>\n",
       "  </tbody>\n",
       "</table>\n",
       "</div>"
      ],
      "text/plain": [
       "   age     sex     bmi  children smoker     region      charges\n",
       "0   19  female  27.900         0    yes  southwest  16884.92400\n",
       "1   18    male  33.770         1     no  southeast   1725.55230\n",
       "2   28    male  33.000         3     no  southeast   4449.46200\n",
       "3   33    male  22.705         0     no  northwest  21984.47061\n",
       "4   32    male  28.880         0     no  northwest   3866.85520"
      ]
     },
     "execution_count": 2,
     "metadata": {},
     "output_type": "execute_result"
    }
   ],
   "source": [
    "# IMPORT DATA SET\n",
    "ins_data=pd.read_csv(r\"C:\\Users\\PRIYANKA\\Data_Science_14_april_jhon\\data_Sets\\insurance.csv\")\n",
    "ins_data.head()"
   ]
  },
  {
   "cell_type": "code",
   "execution_count": 3,
   "id": "d6483da9",
   "metadata": {},
   "outputs": [
    {
     "name": "stdout",
     "output_type": "stream",
     "text": [
      "MEAN OF AGE: 39.20702541106129\n",
      "=========================================================\n",
      "MEAN OF CHILDREN: 1.0949177877429\n",
      "=========================================================\n",
      "MEAN OF CHARGES: 13270.422265141257\n",
      "=========================================================\n"
     ]
    },
    {
     "data": {
      "text/html": [
       "<div>\n",
       "<style scoped>\n",
       "    .dataframe tbody tr th:only-of-type {\n",
       "        vertical-align: middle;\n",
       "    }\n",
       "\n",
       "    .dataframe tbody tr th {\n",
       "        vertical-align: top;\n",
       "    }\n",
       "\n",
       "    .dataframe thead th {\n",
       "        text-align: right;\n",
       "    }\n",
       "</style>\n",
       "<table border=\"1\" class=\"dataframe\">\n",
       "  <thead>\n",
       "    <tr style=\"text-align: right;\">\n",
       "      <th></th>\n",
       "      <th>age</th>\n",
       "      <th>bmi</th>\n",
       "      <th>children</th>\n",
       "      <th>charges</th>\n",
       "    </tr>\n",
       "    <tr>\n",
       "      <th>region</th>\n",
       "      <th></th>\n",
       "      <th></th>\n",
       "      <th></th>\n",
       "      <th></th>\n",
       "    </tr>\n",
       "  </thead>\n",
       "  <tbody>\n",
       "    <tr>\n",
       "      <th>northeast</th>\n",
       "      <td>39.268519</td>\n",
       "      <td>29.173503</td>\n",
       "      <td>1.046296</td>\n",
       "      <td>13406.384516</td>\n",
       "    </tr>\n",
       "    <tr>\n",
       "      <th>northwest</th>\n",
       "      <td>39.196923</td>\n",
       "      <td>29.199785</td>\n",
       "      <td>1.147692</td>\n",
       "      <td>12417.575374</td>\n",
       "    </tr>\n",
       "    <tr>\n",
       "      <th>southeast</th>\n",
       "      <td>38.939560</td>\n",
       "      <td>33.355989</td>\n",
       "      <td>1.049451</td>\n",
       "      <td>14735.411438</td>\n",
       "    </tr>\n",
       "    <tr>\n",
       "      <th>southwest</th>\n",
       "      <td>39.455385</td>\n",
       "      <td>30.596615</td>\n",
       "      <td>1.141538</td>\n",
       "      <td>12346.937377</td>\n",
       "    </tr>\n",
       "  </tbody>\n",
       "</table>\n",
       "</div>"
      ],
      "text/plain": [
       "                 age        bmi  children       charges\n",
       "region                                                 \n",
       "northeast  39.268519  29.173503  1.046296  13406.384516\n",
       "northwest  39.196923  29.199785  1.147692  12417.575374\n",
       "southeast  38.939560  33.355989  1.049451  14735.411438\n",
       "southwest  39.455385  30.596615  1.141538  12346.937377"
      ]
     },
     "execution_count": 3,
     "metadata": {},
     "output_type": "execute_result"
    }
   ],
   "source": [
    "#FINDING MEAN\n",
    "print(\"MEAN OF AGE:\",ins_data['age'].mean())\n",
    "print(\"=========================================================\")\n",
    "print(\"MEAN OF CHILDREN:\", ins_data['children'].mean())\n",
    "print(\"=========================================================\")\n",
    "print(\"MEAN OF CHARGES:\",ins_data['charges'].mean())\n",
    "print(\"=========================================================\")\n",
    "ins_data.groupby('region').mean()"
   ]
  },
  {
   "cell_type": "code",
   "execution_count": 4,
   "id": "5e9914d3",
   "metadata": {},
   "outputs": [
    {
     "name": "stdout",
     "output_type": "stream",
     "text": [
      "TOTAL SUM OF CHARGES : 17755824.990759\n",
      "=========================================================\n"
     ]
    },
    {
     "data": {
      "text/html": [
       "<div>\n",
       "<style scoped>\n",
       "    .dataframe tbody tr th:only-of-type {\n",
       "        vertical-align: middle;\n",
       "    }\n",
       "\n",
       "    .dataframe tbody tr th {\n",
       "        vertical-align: top;\n",
       "    }\n",
       "\n",
       "    .dataframe thead th {\n",
       "        text-align: right;\n",
       "    }\n",
       "</style>\n",
       "<table border=\"1\" class=\"dataframe\">\n",
       "  <thead>\n",
       "    <tr style=\"text-align: right;\">\n",
       "      <th></th>\n",
       "      <th>age</th>\n",
       "      <th>bmi</th>\n",
       "      <th>children</th>\n",
       "      <th>charges</th>\n",
       "    </tr>\n",
       "    <tr>\n",
       "      <th>sex</th>\n",
       "      <th></th>\n",
       "      <th></th>\n",
       "      <th></th>\n",
       "      <th></th>\n",
       "    </tr>\n",
       "  </thead>\n",
       "  <tbody>\n",
       "    <tr>\n",
       "      <th>female</th>\n",
       "      <td>26151</td>\n",
       "      <td>20110.070</td>\n",
       "      <td>711</td>\n",
       "      <td>8.321061e+06</td>\n",
       "    </tr>\n",
       "    <tr>\n",
       "      <th>male</th>\n",
       "      <td>26308</td>\n",
       "      <td>20917.555</td>\n",
       "      <td>754</td>\n",
       "      <td>9.434764e+06</td>\n",
       "    </tr>\n",
       "  </tbody>\n",
       "</table>\n",
       "</div>"
      ],
      "text/plain": [
       "          age        bmi  children       charges\n",
       "sex                                             \n",
       "female  26151  20110.070       711  8.321061e+06\n",
       "male    26308  20917.555       754  9.434764e+06"
      ]
     },
     "execution_count": 4,
     "metadata": {},
     "output_type": "execute_result"
    }
   ],
   "source": [
    "# FINDING SUM\n",
    "print(\"TOTAL SUM OF CHARGES :\",ins_data['charges'].sum())\n",
    "print(\"=========================================================\")\n",
    "ins_data.groupby('sex').sum()\n"
   ]
  },
  {
   "cell_type": "code",
   "execution_count": 5,
   "id": "e2bafff6",
   "metadata": {},
   "outputs": [
    {
     "name": "stdout",
     "output_type": "stream",
     "text": [
      "region\n",
      "northeast    324\n",
      "northwest    325\n",
      "southeast    364\n",
      "southwest    325\n",
      "dtype: int64\n",
      "==================================================\n",
      "sex\n",
      "female    662\n",
      "male      676\n",
      "dtype: int64\n"
     ]
    }
   ],
   "source": [
    "# FINDING SIZE\n",
    "print(ins_data.groupby('region').size())\n",
    "print(\"==================================================\")\n",
    "print(ins_data.groupby('sex').size())"
   ]
  },
  {
   "cell_type": "code",
   "execution_count": 6,
   "id": "be99e7fb",
   "metadata": {},
   "outputs": [
    {
     "name": "stdout",
     "output_type": "stream",
     "text": [
      "          age  sex  bmi  smoker  region  charges\n",
      "children                                        \n",
      "0         574  574  574     574     574      574\n",
      "1         324  324  324     324     324      324\n",
      "2         240  240  240     240     240      240\n",
      "3         157  157  157     157     157      157\n",
      "4          25   25   25      25      25       25\n",
      "5          18   18   18      18      18       18\n",
      "==============================================\n",
      "based on size of children : \n",
      " 0    574\n",
      "1    324\n",
      "2    240\n",
      "3    157\n",
      "4     25\n",
      "5     18\n",
      "Name: children, dtype: int64\n",
      "===================================================\n",
      "based on region:\n",
      "  southeast    364\n",
      "southwest    325\n",
      "northwest    325\n",
      "northeast    324\n",
      "Name: region, dtype: int64\n"
     ]
    }
   ],
   "source": [
    "# finding count\n",
    "print(ins_data.groupby('children').count())\n",
    "print(\"==============================================\")\n",
    "print(\"based on size of children : \\n\",ins_data['children'].value_counts())\n",
    "print(\"===================================================\")\n",
    "print(\"based on region:\\n \",ins_data['region'].value_counts())"
   ]
  },
  {
   "cell_type": "code",
   "execution_count": 7,
   "id": "4810b03c",
   "metadata": {},
   "outputs": [
    {
     "data": {
      "text/html": [
       "<div>\n",
       "<style scoped>\n",
       "    .dataframe tbody tr th:only-of-type {\n",
       "        vertical-align: middle;\n",
       "    }\n",
       "\n",
       "    .dataframe tbody tr th {\n",
       "        vertical-align: top;\n",
       "    }\n",
       "\n",
       "    .dataframe thead th {\n",
       "        text-align: right;\n",
       "    }\n",
       "</style>\n",
       "<table border=\"1\" class=\"dataframe\">\n",
       "  <thead>\n",
       "    <tr style=\"text-align: right;\">\n",
       "      <th></th>\n",
       "      <th>age</th>\n",
       "      <th>bmi</th>\n",
       "      <th>children</th>\n",
       "      <th>charges</th>\n",
       "    </tr>\n",
       "  </thead>\n",
       "  <tbody>\n",
       "    <tr>\n",
       "      <th>count</th>\n",
       "      <td>1338.000000</td>\n",
       "      <td>1338.000000</td>\n",
       "      <td>1338.000000</td>\n",
       "      <td>1338.000000</td>\n",
       "    </tr>\n",
       "    <tr>\n",
       "      <th>mean</th>\n",
       "      <td>39.207025</td>\n",
       "      <td>30.663397</td>\n",
       "      <td>1.094918</td>\n",
       "      <td>13270.422265</td>\n",
       "    </tr>\n",
       "    <tr>\n",
       "      <th>std</th>\n",
       "      <td>14.049960</td>\n",
       "      <td>6.098187</td>\n",
       "      <td>1.205493</td>\n",
       "      <td>12110.011237</td>\n",
       "    </tr>\n",
       "    <tr>\n",
       "      <th>min</th>\n",
       "      <td>18.000000</td>\n",
       "      <td>15.960000</td>\n",
       "      <td>0.000000</td>\n",
       "      <td>1121.873900</td>\n",
       "    </tr>\n",
       "    <tr>\n",
       "      <th>25%</th>\n",
       "      <td>27.000000</td>\n",
       "      <td>26.296250</td>\n",
       "      <td>0.000000</td>\n",
       "      <td>4740.287150</td>\n",
       "    </tr>\n",
       "    <tr>\n",
       "      <th>50%</th>\n",
       "      <td>39.000000</td>\n",
       "      <td>30.400000</td>\n",
       "      <td>1.000000</td>\n",
       "      <td>9382.033000</td>\n",
       "    </tr>\n",
       "    <tr>\n",
       "      <th>75%</th>\n",
       "      <td>51.000000</td>\n",
       "      <td>34.693750</td>\n",
       "      <td>2.000000</td>\n",
       "      <td>16639.912515</td>\n",
       "    </tr>\n",
       "    <tr>\n",
       "      <th>max</th>\n",
       "      <td>64.000000</td>\n",
       "      <td>53.130000</td>\n",
       "      <td>5.000000</td>\n",
       "      <td>63770.428010</td>\n",
       "    </tr>\n",
       "  </tbody>\n",
       "</table>\n",
       "</div>"
      ],
      "text/plain": [
       "               age          bmi     children       charges\n",
       "count  1338.000000  1338.000000  1338.000000   1338.000000\n",
       "mean     39.207025    30.663397     1.094918  13270.422265\n",
       "std      14.049960     6.098187     1.205493  12110.011237\n",
       "min      18.000000    15.960000     0.000000   1121.873900\n",
       "25%      27.000000    26.296250     0.000000   4740.287150\n",
       "50%      39.000000    30.400000     1.000000   9382.033000\n",
       "75%      51.000000    34.693750     2.000000  16639.912515\n",
       "max      64.000000    53.130000     5.000000  63770.428010"
      ]
     },
     "execution_count": 7,
     "metadata": {},
     "output_type": "execute_result"
    }
   ],
   "source": [
    "# using describe\n",
    "ins_data.describe()"
   ]
  },
  {
   "cell_type": "code",
   "execution_count": 8,
   "id": "74b9d33f",
   "metadata": {},
   "outputs": [
    {
     "name": "stdout",
     "output_type": "stream",
     "text": [
      "                age       bmi       charges\n",
      "children                                   \n",
      "0         16.436228  6.039106  12023.293942\n",
      "1         12.067445  6.101435  11823.631451\n",
      "2         11.588715  6.509644  12891.368347\n",
      "3         12.206174  5.787173  12330.869484\n",
      "4         12.138094  4.627211   9139.223321\n",
      "5         10.123583  7.139686   3808.435525\n",
      "====================================\n",
      "14.049960379216172\n",
      "12110.011236693994\n",
      "6.098186911679017\n"
     ]
    }
   ],
   "source": [
    "# USING STD\n",
    "print(ins_data.groupby('children').std())\n",
    "print(\"====================================\")\n",
    "print(ins_data['age'].std())\n",
    "print(ins_data['charges'].std())\n",
    "print(ins_data['bmi'].std())"
   ]
  },
  {
   "cell_type": "code",
   "execution_count": 9,
   "id": "306a8ce5",
   "metadata": {},
   "outputs": [
    {
     "name": "stdout",
     "output_type": "stream",
     "text": [
      "197.40138665754424\n",
      "146652372.1528548\n",
      "37.187883609773266\n"
     ]
    }
   ],
   "source": [
    "#USING VARIANCE\n",
    "print(ins_data['age'].var())\n",
    "print(ins_data['charges'].var())\n",
    "print(ins_data['bmi'].var())"
   ]
  },
  {
   "cell_type": "code",
   "execution_count": 10,
   "id": "174888ae",
   "metadata": {},
   "outputs": [
    {
     "name": "stdout",
     "output_type": "stream",
     "text": [
      "MIN AGE IS: 18\n",
      "MIN NO OF CHIDREN ARE: 0\n",
      "MIN BMI IS: 15.96\n",
      "MIN CHARGE AMOUNT IS: 1121.8739\n"
     ]
    }
   ],
   "source": [
    "# USING MIN\n",
    "print(\"MIN AGE IS:\",ins_data['age'].min())\n",
    "print(\"MIN NO OF CHIDREN ARE:\",ins_data['children'].min())\n",
    "print(\"MIN BMI IS:\",ins_data['bmi'].min())\n",
    "print(\"MIN CHARGE AMOUNT IS:\",ins_data['charges'].min())"
   ]
  },
  {
   "cell_type": "code",
   "execution_count": 11,
   "id": "8bf51299",
   "metadata": {},
   "outputs": [
    {
     "name": "stdout",
     "output_type": "stream",
     "text": [
      "MAX AGE IS: 64\n",
      "MAX NO OF CHIDREN ARE: 5\n",
      "MAX BMI IS: 53.13\n",
      "MAX CHARGE AMOUNT IS: 63770.42801\n"
     ]
    }
   ],
   "source": [
    "# USING MAX\n",
    "print(\"MAX AGE IS:\",ins_data['age'].max())\n",
    "print(\"MAX NO OF CHIDREN ARE:\",ins_data['children'].max())\n",
    "print(\"MAX BMI IS:\",ins_data['bmi'].max())\n",
    "print(\"MAX CHARGE AMOUNT IS:\",ins_data['charges'].max())"
   ]
  },
  {
   "cell_type": "code",
   "execution_count": null,
   "id": "a56fd6be",
   "metadata": {},
   "outputs": [],
   "source": []
  }
 ],
 "metadata": {
  "kernelspec": {
   "display_name": "Python 3 (ipykernel)",
   "language": "python",
   "name": "python3"
  },
  "language_info": {
   "codemirror_mode": {
    "name": "ipython",
    "version": 3
   },
   "file_extension": ".py",
   "mimetype": "text/x-python",
   "name": "python",
   "nbconvert_exporter": "python",
   "pygments_lexer": "ipython3",
   "version": "3.9.7"
  }
 },
 "nbformat": 4,
 "nbformat_minor": 5
}
